{
 "cells": [
  {
   "cell_type": "markdown",
   "metadata": {
    "colab_type": "text",
    "id": "nP84DR6FiNDw"
   },
   "source": [
    "# clase_02: EDA : Practica"
   ]
  },
  {
   "cell_type": "markdown",
   "metadata": {
    "colab_type": "text",
    "id": "EtSj3GImiNDz"
   },
   "source": [
    "## Librerias"
   ]
  },
  {
   "cell_type": "code",
   "execution_count": null,
   "metadata": {
    "colab": {},
    "colab_type": "code",
    "id": "E3LVbuOgJYwc"
   },
   "outputs": [],
   "source": [
    "#Importar paquetes de herramientas:\n",
    "#Datos\n",
    "import pandas as pd\n",
    "import numpy as np\n",
    "#Graficos \n",
    "import matplotlib.pyplot as plt\n",
    "import seaborn as sns\n",
    "#Otros \n",
    "import warnings\n",
    "warnings.filterwarnings('ignore')"
   ]
  },
  {
   "cell_type": "markdown",
   "metadata": {},
   "source": [
    "# Dataset"
   ]
  },
  {
   "cell_type": "markdown",
   "metadata": {},
   "source": [
    "El dataset  que usaremos se encuentra en:\n",
    "  \n",
    "https://www.kaggle.com/dgomonov/new-york-city-airbnb-open-data\n",
    "\n",
    "* Descargar e importarlo\n",
    "\n",
    "\n",
    "* Verificar que se haya cargado bien el dataset\n",
    "\n",
    "\n",
    "* Dimension del dataset"
   ]
  },
  {
   "cell_type": "code",
   "execution_count": null,
   "metadata": {
    "colab": {},
    "colab_type": "code",
    "id": "Jh-ZGb5CJbWM"
   },
   "outputs": [],
   "source": [
    "df = \n",
    "print(f'Shape: {}')"
   ]
  },
  {
   "cell_type": "markdown",
   "metadata": {},
   "source": [
    "# Limpieza"
   ]
  },
  {
   "cell_type": "markdown",
   "metadata": {},
   "source": [
    "* Duplicados\n",
    "\n",
    "\n",
    "* Cantidad y % de NaN por columna\n",
    "\n",
    "\n",
    "* Luego de quitarlos, devolver shape del df"
   ]
  },
  {
   "cell_type": "code",
   "execution_count": null,
   "metadata": {},
   "outputs": [],
   "source": [
    "#Eliminar duplicados conservando la primera ocurrencia.\n"
   ]
  },
  {
   "cell_type": "code",
   "execution_count": null,
   "metadata": {},
   "outputs": [],
   "source": [
    "#Cantidad de NaN\n",
    "cant_NaN = \n",
    "print(cant_NaN)"
   ]
  },
  {
   "cell_type": "code",
   "execution_count": null,
   "metadata": {
    "colab": {},
    "colab_type": "code",
    "id": "Ssn7oGRZJgxn",
    "outputId": "d6e386e6-0a9e-426b-a285-1dbb66eb3a3e"
   },
   "outputs": [],
   "source": [
    "#Cantidad de NaNs y sus %\n",
    "total =\n",
    "percent = "
   ]
  },
  {
   "cell_type": "code",
   "execution_count": null,
   "metadata": {
    "colab": {},
    "colab_type": "code",
    "id": "3jNAZYrJJiBQ",
    "outputId": "37da666a-8313-408f-ba30-153ff7e92501"
   },
   "outputs": [],
   "source": [
    "#Tiramos los NaNs\n"
   ]
  },
  {
   "cell_type": "code",
   "execution_count": null,
   "metadata": {
    "colab": {},
    "colab_type": "code",
    "id": "cFAVSErSiNEQ",
    "outputId": "c15fa468-e66e-4c82-d4b4-f1b1b292cd79",
    "scrolled": true
   },
   "outputs": [],
   "source": [
    "# Verificamos como quedo el data-set\n",
    "print(f'Nos quedamos con un df de {} filas x {} columnas')"
   ]
  },
  {
   "cell_type": "markdown",
   "metadata": {},
   "source": [
    "# Ejercicios"
   ]
  },
  {
   "cell_type": "markdown",
   "metadata": {},
   "source": [
    "1) Crear columna 'log_precios'. Grafico de la distribucion de precio y de log(precio)\n",
    "\n",
    "\n",
    "2) En base al que mejor se ajuste, comparar los precios segun los distintos \"neighbourhood_group\" (boxplot)\n",
    "\n",
    "\n",
    "3) Mediana, Limite inferior y superior del 'neighbourhood_group' con mayor y menor precio.\n",
    "\n",
    "\n",
    "4) Crear una nueva columa llamada \"Banda\", con 7 categorias de precios. \n",
    "        \n",
    "    Bandas = [0, 50, 75, 100, 150, 200, 250]\n",
    "\n",
    "\n",
    "5) Boxplot de \"Bandas\" vs log(Reviews)\n",
    "\n",
    "\n",
    "6) Scatter plot de Longitud y Latitud donde se distinga \"neighbourhood_group\"\n",
    "\n",
    "\n",
    "7) Scatter plot de Longitud y Latitud donde se distingan las \"Bandas\"\n",
    "\n",
    "\n",
    "8) Cantidad de barrios\n",
    "\n",
    "\n",
    "\n",
    "9) Comparacion de la cantidad de hospedajes para los 10 barrios mas populares (barras)\n",
    "\n",
    "\n",
    "10) Cantidad de hospedajes para los 10 barrios mas populares, segregados por bandas (pivot_table)\n"
   ]
  },
  {
   "cell_type": "markdown",
   "metadata": {},
   "source": [
    "# 1)"
   ]
  },
  {
   "cell_type": "code",
   "execution_count": null,
   "metadata": {
    "scrolled": false
   },
   "outputs": [],
   "source": [
    "#Columna log precios\n",
    "\n",
    "#Plot Precio\n",
    "sns.kdeplot()\n",
    "plt.xlabel(\"Price\")\n",
    "plt.title('Distribucion de Precio',size = 20)\n",
    "plt.show()\n",
    "\n",
    "#Plot Log-Precio\n",
    "sns.distplot()\n",
    "plt.xlabel(\"Price\")\n",
    "plt.show()"
   ]
  },
  {
   "cell_type": "markdown",
   "metadata": {},
   "source": [
    "# 2)"
   ]
  },
  {
   "cell_type": "code",
   "execution_count": null,
   "metadata": {
    "scrolled": false
   },
   "outputs": [],
   "source": [
    "# En base al que mejor se ajuste, comparar los precios segun los distintos \"neighbourhood_group\" (boxplot)\n",
    "g = sns.catplot()\n",
    "g.despine(left=True)\n",
    "g.set_xticklabels(rotation=90)\n",
    "plt.xlabel(\"Barrio\")\n",
    "plt.ylabel(\"##\")\n",
    "plt.title('Plot de ## vs Barrio',size = 12)\n",
    "plt.show()"
   ]
  },
  {
   "cell_type": "markdown",
   "metadata": {},
   "source": [
    "# 3)"
   ]
  },
  {
   "cell_type": "code",
   "execution_count": null,
   "metadata": {},
   "outputs": [],
   "source": [
    "# Mediana, Limite inferior y superior del 'neighbourhood_group' con mayor y menor precio.\n",
    "\n",
    "grup1 = \n",
    "df_pivote =\n",
    "plt.figure()\n",
    "A = plt.boxplot()\n",
    "medians = \n",
    "#whiskers\n",
    "whiskers = \n",
    "print(f'Mediana:\\r\\n {}\\r\\n')\n",
    "print(f'Limites Inferiores :\\r\\n{}\\r\\n')\n",
    "print(f'Limites Superiores:\\r\\n{}\\r\\n')\n",
    "\n",
    "grup2 = \n",
    "df_pivote = \n",
    "plt.figure()\n",
    "A = plt.boxplot()\n",
    "medians = \n",
    "#whiskers\n",
    "whiskers = \n",
    "print(f'Mediana:\\r\\n {}\\r\\n')\n",
    "print(f'Limites Inferiores :\\r\\n{}\\r\\n')\n",
    "print(f'Limites Superiores:\\r\\n{}\\r\\n')"
   ]
  },
  {
   "cell_type": "markdown",
   "metadata": {},
   "source": [
    "# 4)"
   ]
  },
  {
   "cell_type": "code",
   "execution_count": null,
   "metadata": {},
   "outputs": [],
   "source": [
    "# Definir y crear las bandas\n",
    "\n",
    "#1 \n",
    "#2\n",
    "#3 \n",
    "#4 \n",
    "#5 \n",
    "#6 \n",
    "#7 "
   ]
  },
  {
   "cell_type": "markdown",
   "metadata": {},
   "source": [
    "# 5)"
   ]
  },
  {
   "cell_type": "code",
   "execution_count": null,
   "metadata": {
    "scrolled": false
   },
   "outputs": [],
   "source": [
    "#  Boxplot de \"Bandas\" vs log(Reviews)\n",
    "\n",
    "#Log-Reviews\n",
    "\n",
    "g = sns.catplot()\n",
    "\n",
    "g.despine(left=True)\n",
    "g.set_xticklabels(rotation=90)\n",
    "g = g.set_ylabels(\"log_Reviews\")\n",
    "plt.title('Boxen plot Bandas VS Reviews',size = 20)\n",
    "plt.show()"
   ]
  },
  {
   "cell_type": "markdown",
   "metadata": {},
   "source": [
    "# 6)"
   ]
  },
  {
   "cell_type": "code",
   "execution_count": null,
   "metadata": {
    "scrolled": false
   },
   "outputs": [],
   "source": [
    "#  Scatter plot de Longitud y Latitud donde se distinga \"neighbourhood_group\"\n",
    "\n",
    "df.plot(\n",
    "        cmap=plt.get_cmap(), colorbar=True, alpha=0.5, figsize=(10,8))\n",
    "plt.show()"
   ]
  },
  {
   "cell_type": "markdown",
   "metadata": {},
   "source": [
    "# 7)"
   ]
  },
  {
   "cell_type": "code",
   "execution_count": null,
   "metadata": {},
   "outputs": [],
   "source": [
    "# Scatter plot de Longitud y Latitud donde se distingan las \"Bandas\"\n",
    "\n",
    "plt.figure(figsize=(10,8))\n",
    "sns.scatterplot()\n",
    "plt.show()"
   ]
  },
  {
   "cell_type": "markdown",
   "metadata": {},
   "source": [
    "# 8)"
   ]
  },
  {
   "cell_type": "code",
   "execution_count": null,
   "metadata": {},
   "outputs": [],
   "source": [
    "#8) Cantidad de barrios\n",
    "\n",
    "q_barrios = \n",
    "print(f'En total hay {q_barrios} barrios\\r\\n')"
   ]
  },
  {
   "cell_type": "markdown",
   "metadata": {},
   "source": [
    "# 9)"
   ]
  },
  {
   "cell_type": "code",
   "execution_count": null,
   "metadata": {},
   "outputs": [],
   "source": [
    "# Comparacion de la cantidad de hospedajes para los 10 barrios mas populares (barras)\n",
    "\n",
    "\n",
    "#Top neighbourhood\n",
    "top_neighbourhood = \n",
    "\n",
    "\n",
    "plt.figure(figsize=(15,3))\n",
    "#g = sns.countplot(order=)\n",
    "g.set_xticklabels(g.get_xticklabels(), rotation=90, ha=\"right\")\n",
    "plt.title('Cuenta por Barrio',size = 20)\n",
    "plt.xlabel(\"Barrio\")\n",
    "plt.ylabel(\"Count\")\n",
    "plt.show()"
   ]
  },
  {
   "cell_type": "markdown",
   "metadata": {},
   "source": [
    "# 10)"
   ]
  },
  {
   "cell_type": "code",
   "execution_count": null,
   "metadata": {
    "scrolled": false
   },
   "outputs": [],
   "source": [
    "# Cantidad de hospedajes para los 10 barrios mas populares, segregados por bandas (pivot_table)\n",
    "\n",
    "table = pd.pivot_table()\n",
    "table"
   ]
  },
  {
   "cell_type": "markdown",
   "metadata": {},
   "source": [
    "![Axis diagram](https://media.makeameme.org/created/the-weekend-is-5aac5c.jpg)"
   ]
  }
 ],
 "metadata": {
  "colab": {
   "collapsed_sections": [],
   "name": "cluster_01_house_prices (2).ipynb",
   "provenance": [
    {
     "file_id": "1h80uh-WLmCat_GdzGdh_jFXo_QD2blT1",
     "timestamp": 1532902915080
    }
   ],
   "version": "0.3.2"
  },
  "kernelspec": {
   "display_name": "Python 3",
   "language": "python",
   "name": "python3"
  },
  "language_info": {
   "codemirror_mode": {
    "name": "ipython",
    "version": 3
   },
   "file_extension": ".py",
   "mimetype": "text/x-python",
   "name": "python",
   "nbconvert_exporter": "python",
   "pygments_lexer": "ipython3",
   "version": "3.6.8"
  }
 },
 "nbformat": 4,
 "nbformat_minor": 1
}
