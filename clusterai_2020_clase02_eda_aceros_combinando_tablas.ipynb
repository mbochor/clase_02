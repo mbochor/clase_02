{
 "cells": [
  {
   "cell_type": "markdown",
   "metadata": {
    "colab_type": "text",
    "id": "R7fjUH99o92m"
   },
   "source": [
    "____\n",
    "__Universidad Tecnológica Nacional, Buenos Aires__<br/>\n",
    "__Ingeniería Industrial__<br/>\n",
    "__Cátedra de Ciencia de Datos - Curso I5521 - Turno sabado mañana__<br/>\n",
    "__Elaborado por: Agustin Velazquez__\n",
    "____\n",
    "\n",
    "# Combinando datos con Pandas"
   ]
  },
  {
   "cell_type": "markdown",
   "metadata": {
    "colab_type": "text",
    "id": "qdUc-_u8o92n"
   },
   "source": [
    "Datos : http://datos.gob.ar/dataset/siep-indicadores-sectoriales-acero\n",
    "\n",
    "Link util : https://pandas.pydata.org/pandas-docs/stable/merging.html"
   ]
  },
  {
   "cell_type": "code",
   "execution_count": 1,
   "metadata": {
    "colab": {},
    "colab_type": "code",
    "id": "A3NM_LWho92n"
   },
   "outputs": [],
   "source": [
    "import pandas as pd\n",
    "import matplotlib.pyplot as plt\n",
    "%matplotlib inline\n",
    "import seaborn as sns\n",
    "from IPython.display import Image"
   ]
  },
  {
   "cell_type": "code",
   "execution_count": 2,
   "metadata": {},
   "outputs": [
    {
     "data": {
      "text/plain": [
       "'/Users/palazzom/Dropbox/clusterai/clases/2020/clase02/eda_acero'"
      ]
     },
     "execution_count": 2,
     "metadata": {},
     "output_type": "execute_result"
    }
   ],
   "source": [
    "pwd"
   ]
  },
  {
   "cell_type": "code",
   "execution_count": 5,
   "metadata": {},
   "outputs": [
    {
     "name": "stdout",
     "output_type": "stream",
     "text": [
      "clusterai_2020_clase02_dataset_acero-consumo-series.csv\r\n",
      "clusterai_2020_clase02_dataset_acero-exportaciones-series.csv\r\n",
      "clusterai_2020_clase02_dataset_acero-importaciones-series.csv\r\n",
      "clusterai_2020_clase02_dataset_acero-produccion-series.csv\r\n",
      "clusterai_2020_clase02_eda_aceros_combinando_tablas.ipynb\r\n"
     ]
    }
   ],
   "source": [
    "ls"
   ]
  },
  {
   "cell_type": "markdown",
   "metadata": {},
   "source": [
    "Tenemos datos distribuidos en 4 datasets. Queremos trabajar con ellos en conjunto. Importamos los 4 datasets y procederemos a combinarlos para generar nuevas tablas."
   ]
  },
  {
   "cell_type": "code",
   "execution_count": 7,
   "metadata": {
    "colab": {},
    "colab_type": "code",
    "id": "2QuGt0ZNo92q"
   },
   "outputs": [],
   "source": [
    "expo = pd.read_csv('/Users/palazzom/Dropbox/clusterai/clases/2020/clase02/eda_acero/clusterai_2020_clase02_dataset_acero-exportaciones-series.csv')\n",
    "impo = pd.read_csv('/Users/palazzom/Dropbox/clusterai/clases/2020/clase02/eda_acero/clusterai_2020_clase02_dataset_acero-importaciones-series.csv')\n",
    "prod = pd.read_csv('/Users/palazzom/Dropbox/clusterai/clases/2020/clase02/eda_acero/clusterai_2020_clase02_dataset_acero-produccion-series.csv')\n",
    "consumo = pd.read_csv('/Users/palazzom/Dropbox/clusterai/clases/2020/clase02/eda_acero/clusterai_2020_clase02_dataset_acero-consumo-series.csv')\n"
   ]
  },
  {
   "cell_type": "code",
   "execution_count": 8,
   "metadata": {
    "colab": {},
    "colab_type": "code",
    "id": "ji6ZQkiko92s",
    "outputId": "d0af024c-e794-44b8-c3bf-e15f5a06ba68"
   },
   "outputs": [
    {
     "data": {
      "text/html": [
       "<div>\n",
       "<style scoped>\n",
       "    .dataframe tbody tr th:only-of-type {\n",
       "        vertical-align: middle;\n",
       "    }\n",
       "\n",
       "    .dataframe tbody tr th {\n",
       "        vertical-align: top;\n",
       "    }\n",
       "\n",
       "    .dataframe thead th {\n",
       "        text-align: right;\n",
       "    }\n",
       "</style>\n",
       "<table border=\"1\" class=\"dataframe\">\n",
       "  <thead>\n",
       "    <tr style=\"text-align: right;\">\n",
       "      <th></th>\n",
       "      <th>indice_tiempo</th>\n",
       "      <th>acero_produccion</th>\n",
       "    </tr>\n",
       "  </thead>\n",
       "  <tbody>\n",
       "    <tr>\n",
       "      <th>0</th>\n",
       "      <td>1993-01-01</td>\n",
       "      <td>214500</td>\n",
       "    </tr>\n",
       "    <tr>\n",
       "      <th>1</th>\n",
       "      <td>1993-02-01</td>\n",
       "      <td>169000</td>\n",
       "    </tr>\n",
       "  </tbody>\n",
       "</table>\n",
       "</div>"
      ],
      "text/plain": [
       "  indice_tiempo  acero_produccion\n",
       "0    1993-01-01            214500\n",
       "1    1993-02-01            169000"
      ]
     },
     "execution_count": 8,
     "metadata": {},
     "output_type": "execute_result"
    }
   ],
   "source": [
    "# observamos cada dataframe\n",
    "prod.head(2)"
   ]
  },
  {
   "cell_type": "code",
   "execution_count": 9,
   "metadata": {},
   "outputs": [
    {
     "data": {
      "text/html": [
       "<div>\n",
       "<style scoped>\n",
       "    .dataframe tbody tr th:only-of-type {\n",
       "        vertical-align: middle;\n",
       "    }\n",
       "\n",
       "    .dataframe tbody tr th {\n",
       "        vertical-align: top;\n",
       "    }\n",
       "\n",
       "    .dataframe thead th {\n",
       "        text-align: right;\n",
       "    }\n",
       "</style>\n",
       "<table border=\"1\" class=\"dataframe\">\n",
       "  <thead>\n",
       "    <tr style=\"text-align: right;\">\n",
       "      <th></th>\n",
       "      <th>indice_tiempo</th>\n",
       "      <th>acero_importaciones_acero</th>\n",
       "      <th>acero_importaciones_barras</th>\n",
       "      <th>acero_importaciones_laminados_largos</th>\n",
       "      <th>acero_importaciones_laminados_planos</th>\n",
       "      <th>acero_importaciones_rieles</th>\n",
       "      <th>acero_importaciones_tubos_con_costura</th>\n",
       "      <th>acero_importaciones_tubos_sin_costura</th>\n",
       "    </tr>\n",
       "  </thead>\n",
       "  <tbody>\n",
       "    <tr>\n",
       "      <th>0</th>\n",
       "      <td>1992-01-01</td>\n",
       "      <td>0</td>\n",
       "      <td>0.0</td>\n",
       "      <td>17.7</td>\n",
       "      <td>259.9</td>\n",
       "      <td>0.1</td>\n",
       "      <td>4.0</td>\n",
       "      <td>1.1</td>\n",
       "    </tr>\n",
       "    <tr>\n",
       "      <th>1</th>\n",
       "      <td>1992-04-01</td>\n",
       "      <td>0</td>\n",
       "      <td>0.0</td>\n",
       "      <td>19.4</td>\n",
       "      <td>246.8</td>\n",
       "      <td>0.0</td>\n",
       "      <td>1.2</td>\n",
       "      <td>3.1</td>\n",
       "    </tr>\n",
       "  </tbody>\n",
       "</table>\n",
       "</div>"
      ],
      "text/plain": [
       "  indice_tiempo  acero_importaciones_acero  acero_importaciones_barras  \\\n",
       "0    1992-01-01                          0                         0.0   \n",
       "1    1992-04-01                          0                         0.0   \n",
       "\n",
       "   acero_importaciones_laminados_largos  acero_importaciones_laminados_planos  \\\n",
       "0                                  17.7                                 259.9   \n",
       "1                                  19.4                                 246.8   \n",
       "\n",
       "   acero_importaciones_rieles  acero_importaciones_tubos_con_costura  \\\n",
       "0                         0.1                                    4.0   \n",
       "1                         0.0                                    1.2   \n",
       "\n",
       "   acero_importaciones_tubos_sin_costura  \n",
       "0                                    1.1  \n",
       "1                                    3.1  "
      ]
     },
     "execution_count": 9,
     "metadata": {},
     "output_type": "execute_result"
    }
   ],
   "source": [
    "# observamos cada dataframe\n",
    "impo.head(2)"
   ]
  },
  {
   "cell_type": "code",
   "execution_count": 10,
   "metadata": {},
   "outputs": [
    {
     "data": {
      "text/html": [
       "<div>\n",
       "<style scoped>\n",
       "    .dataframe tbody tr th:only-of-type {\n",
       "        vertical-align: middle;\n",
       "    }\n",
       "\n",
       "    .dataframe tbody tr th {\n",
       "        vertical-align: top;\n",
       "    }\n",
       "\n",
       "    .dataframe thead th {\n",
       "        text-align: right;\n",
       "    }\n",
       "</style>\n",
       "<table border=\"1\" class=\"dataframe\">\n",
       "  <thead>\n",
       "    <tr style=\"text-align: right;\">\n",
       "      <th></th>\n",
       "      <th>indice_tiempo</th>\n",
       "      <th>acero_produccion</th>\n",
       "    </tr>\n",
       "  </thead>\n",
       "  <tbody>\n",
       "    <tr>\n",
       "      <th>0</th>\n",
       "      <td>1993-01-01</td>\n",
       "      <td>214500</td>\n",
       "    </tr>\n",
       "    <tr>\n",
       "      <th>1</th>\n",
       "      <td>1993-02-01</td>\n",
       "      <td>169000</td>\n",
       "    </tr>\n",
       "  </tbody>\n",
       "</table>\n",
       "</div>"
      ],
      "text/plain": [
       "  indice_tiempo  acero_produccion\n",
       "0    1993-01-01            214500\n",
       "1    1993-02-01            169000"
      ]
     },
     "execution_count": 10,
     "metadata": {},
     "output_type": "execute_result"
    }
   ],
   "source": [
    "# observamos cada dataframe\n",
    "prod.head(2)"
   ]
  },
  {
   "cell_type": "code",
   "execution_count": 11,
   "metadata": {},
   "outputs": [
    {
     "data": {
      "text/html": [
       "<div>\n",
       "<style scoped>\n",
       "    .dataframe tbody tr th:only-of-type {\n",
       "        vertical-align: middle;\n",
       "    }\n",
       "\n",
       "    .dataframe tbody tr th {\n",
       "        vertical-align: top;\n",
       "    }\n",
       "\n",
       "    .dataframe thead th {\n",
       "        text-align: right;\n",
       "    }\n",
       "</style>\n",
       "<table border=\"1\" class=\"dataframe\">\n",
       "  <thead>\n",
       "    <tr style=\"text-align: right;\">\n",
       "      <th></th>\n",
       "      <th>indice_tiempo</th>\n",
       "      <th>acero_consumo_tubos_sin_costura</th>\n",
       "      <th>acero_consumo_laminados_planos</th>\n",
       "      <th>acero_consumo_laminados_largos</th>\n",
       "    </tr>\n",
       "  </thead>\n",
       "  <tbody>\n",
       "    <tr>\n",
       "      <th>0</th>\n",
       "      <td>2008-01-01</td>\n",
       "      <td>65</td>\n",
       "      <td>801</td>\n",
       "      <td>438</td>\n",
       "    </tr>\n",
       "    <tr>\n",
       "      <th>1</th>\n",
       "      <td>2008-04-01</td>\n",
       "      <td>84</td>\n",
       "      <td>787</td>\n",
       "      <td>524</td>\n",
       "    </tr>\n",
       "  </tbody>\n",
       "</table>\n",
       "</div>"
      ],
      "text/plain": [
       "  indice_tiempo  acero_consumo_tubos_sin_costura  \\\n",
       "0    2008-01-01                               65   \n",
       "1    2008-04-01                               84   \n",
       "\n",
       "   acero_consumo_laminados_planos  acero_consumo_laminados_largos  \n",
       "0                             801                             438  \n",
       "1                             787                             524  "
      ]
     },
     "execution_count": 11,
     "metadata": {},
     "output_type": "execute_result"
    }
   ],
   "source": [
    "# observamos cada dataframe\n",
    "consumo.head(2)"
   ]
  },
  {
   "cell_type": "code",
   "execution_count": 12,
   "metadata": {
    "colab": {},
    "colab_type": "code",
    "id": "Q2176GJ5o92y"
   },
   "outputs": [],
   "source": [
    "# Existe una diferencia en unidades, la produccion esta en toneladas y las importaciones en miles de toneladas\n",
    "# Transformamos los datos...\n",
    "prod.acero_produccion = prod.acero_produccion/1000"
   ]
  },
  {
   "cell_type": "markdown",
   "metadata": {},
   "source": [
    "Observamos como queda la nueva columna de \"acero_produccion\" del dataframe \"prod\" luego de haber transformado"
   ]
  },
  {
   "cell_type": "code",
   "execution_count": 13,
   "metadata": {
    "colab": {},
    "colab_type": "code",
    "id": "FO_FtMrOo920",
    "outputId": "463e329e-e805-4b38-9764-ad04dd0dbba2"
   },
   "outputs": [
    {
     "data": {
      "text/html": [
       "<div>\n",
       "<style scoped>\n",
       "    .dataframe tbody tr th:only-of-type {\n",
       "        vertical-align: middle;\n",
       "    }\n",
       "\n",
       "    .dataframe tbody tr th {\n",
       "        vertical-align: top;\n",
       "    }\n",
       "\n",
       "    .dataframe thead th {\n",
       "        text-align: right;\n",
       "    }\n",
       "</style>\n",
       "<table border=\"1\" class=\"dataframe\">\n",
       "  <thead>\n",
       "    <tr style=\"text-align: right;\">\n",
       "      <th></th>\n",
       "      <th>indice_tiempo</th>\n",
       "      <th>acero_produccion</th>\n",
       "    </tr>\n",
       "  </thead>\n",
       "  <tbody>\n",
       "    <tr>\n",
       "      <th>0</th>\n",
       "      <td>1993-01-01</td>\n",
       "      <td>214.5</td>\n",
       "    </tr>\n",
       "    <tr>\n",
       "      <th>1</th>\n",
       "      <td>1993-02-01</td>\n",
       "      <td>169.0</td>\n",
       "    </tr>\n",
       "    <tr>\n",
       "      <th>2</th>\n",
       "      <td>1993-03-01</td>\n",
       "      <td>238.7</td>\n",
       "    </tr>\n",
       "    <tr>\n",
       "      <th>3</th>\n",
       "      <td>1993-04-01</td>\n",
       "      <td>250.2</td>\n",
       "    </tr>\n",
       "    <tr>\n",
       "      <th>4</th>\n",
       "      <td>1993-05-01</td>\n",
       "      <td>261.2</td>\n",
       "    </tr>\n",
       "  </tbody>\n",
       "</table>\n",
       "</div>"
      ],
      "text/plain": [
       "  indice_tiempo  acero_produccion\n",
       "0    1993-01-01             214.5\n",
       "1    1993-02-01             169.0\n",
       "2    1993-03-01             238.7\n",
       "3    1993-04-01             250.2\n",
       "4    1993-05-01             261.2"
      ]
     },
     "execution_count": 13,
     "metadata": {},
     "output_type": "execute_result"
    }
   ],
   "source": [
    "prod.head()"
   ]
  },
  {
   "cell_type": "markdown",
   "metadata": {},
   "source": [
    "### Trabajar con Fechas\n",
    "utilizaremos el comando pd.to_datetime(columna) para re-escribir la columna \"indice_tiempo\" que estaba inicialmente como string.\n",
    "\n",
    "- a la columna transformada en datos con formato de fecha podemos aplicarle .dt.year o .dt.month o dt.day para obtener año, mes o dia de esa columna."
   ]
  },
  {
   "cell_type": "code",
   "execution_count": 14,
   "metadata": {
    "colab": {},
    "colab_type": "code",
    "id": "kaPATIXho922",
    "outputId": "d7b888f4-c085-4b37-e7ef-647c39a28018"
   },
   "outputs": [
    {
     "data": {
      "text/html": [
       "<div>\n",
       "<style scoped>\n",
       "    .dataframe tbody tr th:only-of-type {\n",
       "        vertical-align: middle;\n",
       "    }\n",
       "\n",
       "    .dataframe tbody tr th {\n",
       "        vertical-align: top;\n",
       "    }\n",
       "\n",
       "    .dataframe thead th {\n",
       "        text-align: right;\n",
       "    }\n",
       "</style>\n",
       "<table border=\"1\" class=\"dataframe\">\n",
       "  <thead>\n",
       "    <tr style=\"text-align: right;\">\n",
       "      <th></th>\n",
       "      <th>indice_tiempo</th>\n",
       "      <th>acero_exportaciones_acero</th>\n",
       "      <th>acero_exportaciones_laminados_largos</th>\n",
       "      <th>acero_exportaciones_laminados_planos</th>\n",
       "      <th>acero_exportaciones_rieles</th>\n",
       "      <th>acero_exportaciones_tubos_con_costura</th>\n",
       "      <th>acero_exportaciones_tubos_sin_costura</th>\n",
       "      <th>year</th>\n",
       "    </tr>\n",
       "  </thead>\n",
       "  <tbody>\n",
       "    <tr>\n",
       "      <th>0</th>\n",
       "      <td>1992-01-01</td>\n",
       "      <td>0.0</td>\n",
       "      <td>4.1</td>\n",
       "      <td>31.4</td>\n",
       "      <td>10.8</td>\n",
       "      <td>3.8</td>\n",
       "      <td>109.3</td>\n",
       "      <td>1992</td>\n",
       "    </tr>\n",
       "    <tr>\n",
       "      <th>1</th>\n",
       "      <td>1992-04-01</td>\n",
       "      <td>0.0</td>\n",
       "      <td>25.1</td>\n",
       "      <td>57.5</td>\n",
       "      <td>20.5</td>\n",
       "      <td>1.6</td>\n",
       "      <td>125.8</td>\n",
       "      <td>1992</td>\n",
       "    </tr>\n",
       "    <tr>\n",
       "      <th>2</th>\n",
       "      <td>1992-07-01</td>\n",
       "      <td>0.0</td>\n",
       "      <td>21.7</td>\n",
       "      <td>69.8</td>\n",
       "      <td>28.6</td>\n",
       "      <td>1.4</td>\n",
       "      <td>61.8</td>\n",
       "      <td>1992</td>\n",
       "    </tr>\n",
       "    <tr>\n",
       "      <th>3</th>\n",
       "      <td>1992-10-01</td>\n",
       "      <td>0.0</td>\n",
       "      <td>10.1</td>\n",
       "      <td>65.2</td>\n",
       "      <td>14.8</td>\n",
       "      <td>4.3</td>\n",
       "      <td>173.9</td>\n",
       "      <td>1992</td>\n",
       "    </tr>\n",
       "    <tr>\n",
       "      <th>4</th>\n",
       "      <td>1993-01-01</td>\n",
       "      <td>0.0</td>\n",
       "      <td>19.1</td>\n",
       "      <td>136.9</td>\n",
       "      <td>1.4</td>\n",
       "      <td>7.0</td>\n",
       "      <td>105.5</td>\n",
       "      <td>1993</td>\n",
       "    </tr>\n",
       "  </tbody>\n",
       "</table>\n",
       "</div>"
      ],
      "text/plain": [
       "  indice_tiempo  acero_exportaciones_acero  \\\n",
       "0    1992-01-01                        0.0   \n",
       "1    1992-04-01                        0.0   \n",
       "2    1992-07-01                        0.0   \n",
       "3    1992-10-01                        0.0   \n",
       "4    1993-01-01                        0.0   \n",
       "\n",
       "   acero_exportaciones_laminados_largos  acero_exportaciones_laminados_planos  \\\n",
       "0                                   4.1                                  31.4   \n",
       "1                                  25.1                                  57.5   \n",
       "2                                  21.7                                  69.8   \n",
       "3                                  10.1                                  65.2   \n",
       "4                                  19.1                                 136.9   \n",
       "\n",
       "   acero_exportaciones_rieles  acero_exportaciones_tubos_con_costura  \\\n",
       "0                        10.8                                    3.8   \n",
       "1                        20.5                                    1.6   \n",
       "2                        28.6                                    1.4   \n",
       "3                        14.8                                    4.3   \n",
       "4                         1.4                                    7.0   \n",
       "\n",
       "   acero_exportaciones_tubos_sin_costura  year  \n",
       "0                                  109.3  1992  \n",
       "1                                  125.8  1992  \n",
       "2                                   61.8  1992  \n",
       "3                                  173.9  1992  \n",
       "4                                  105.5  1993  "
      ]
     },
     "execution_count": 14,
     "metadata": {},
     "output_type": "execute_result"
    }
   ],
   "source": [
    "#Unificamos los datos para tener mediciones por año\n",
    "expo.indice_tiempo = pd.to_datetime(expo.indice_tiempo) #### indicar que columna queremos transformar #####\n",
    "expo['year'] = expo.indice_tiempo.dt.year #creamos una nueva columna \"year\" con .dt.year sobre la col \"indice_tiempo\"\n",
    "expo.head()"
   ]
  },
  {
   "cell_type": "markdown",
   "metadata": {},
   "source": [
    "Applicamos un .groupby() sobre \"year\" y creamos un nuevo dataframe llamado \"expo_by_year\""
   ]
  },
  {
   "cell_type": "code",
   "execution_count": 15,
   "metadata": {
    "colab": {},
    "colab_type": "code",
    "id": "lLz6x1VXo925",
    "outputId": "b36412cc-39f7-45c5-bfdd-e24cf7f5ce3d"
   },
   "outputs": [
    {
     "data": {
      "text/html": [
       "<div>\n",
       "<style scoped>\n",
       "    .dataframe tbody tr th:only-of-type {\n",
       "        vertical-align: middle;\n",
       "    }\n",
       "\n",
       "    .dataframe tbody tr th {\n",
       "        vertical-align: top;\n",
       "    }\n",
       "\n",
       "    .dataframe thead th {\n",
       "        text-align: right;\n",
       "    }\n",
       "</style>\n",
       "<table border=\"1\" class=\"dataframe\">\n",
       "  <thead>\n",
       "    <tr style=\"text-align: right;\">\n",
       "      <th></th>\n",
       "      <th>acero_exportaciones_laminados_largos</th>\n",
       "      <th>acero_exportaciones_laminados_planos</th>\n",
       "    </tr>\n",
       "    <tr>\n",
       "      <th>year</th>\n",
       "      <th></th>\n",
       "      <th></th>\n",
       "    </tr>\n",
       "  </thead>\n",
       "  <tbody>\n",
       "    <tr>\n",
       "      <th>1992</th>\n",
       "      <td>61.0</td>\n",
       "      <td>223.9</td>\n",
       "    </tr>\n",
       "    <tr>\n",
       "      <th>1993</th>\n",
       "      <td>99.5</td>\n",
       "      <td>269.6</td>\n",
       "    </tr>\n",
       "    <tr>\n",
       "      <th>1994</th>\n",
       "      <td>161.3</td>\n",
       "      <td>295.2</td>\n",
       "    </tr>\n",
       "    <tr>\n",
       "      <th>1995</th>\n",
       "      <td>258.8</td>\n",
       "      <td>559.3</td>\n",
       "    </tr>\n",
       "    <tr>\n",
       "      <th>1996</th>\n",
       "      <td>226.4</td>\n",
       "      <td>457.4</td>\n",
       "    </tr>\n",
       "  </tbody>\n",
       "</table>\n",
       "</div>"
      ],
      "text/plain": [
       "      acero_exportaciones_laminados_largos  \\\n",
       "year                                         \n",
       "1992                                  61.0   \n",
       "1993                                  99.5   \n",
       "1994                                 161.3   \n",
       "1995                                 258.8   \n",
       "1996                                 226.4   \n",
       "\n",
       "      acero_exportaciones_laminados_planos  \n",
       "year                                        \n",
       "1992                                 223.9  \n",
       "1993                                 269.6  \n",
       "1994                                 295.2  \n",
       "1995                                 559.3  \n",
       "1996                                 457.4  "
      ]
     },
     "execution_count": 15,
     "metadata": {},
     "output_type": "execute_result"
    }
   ],
   "source": [
    "#Vamos a trabajar unicamente de aceros laminados \n",
    "#Sumamos la cantidad de exportaciones por año\n",
    "expo_by_year = expo.groupby([\"year\"])[\"acero_exportaciones_laminados_largos\", \"acero_exportaciones_laminados_planos\"].sum()\n",
    "expo_by_year.head()"
   ]
  },
  {
   "cell_type": "markdown",
   "metadata": {},
   "source": [
    "con el comando .plot() sobre un dataframe, **si las columnas son numéricas y representan lo mismo** podemos graficarlas en un mismo grafico. Esto es una alternativa rapida a matplotlib y seaborn"
   ]
  },
  {
   "cell_type": "code",
   "execution_count": 16,
   "metadata": {
    "colab": {},
    "colab_type": "code",
    "id": "U90OE7xCo927",
    "outputId": "1bb830aa-6511-4b81-f8c5-ec3f8bf507d6"
   },
   "outputs": [
    {
     "data": {
      "image/png": "[encoded data removed]",
      "text/plain": [
       "<Figure size 432x288 with 1 Axes>"
      ]
     },
     "metadata": {
      "needs_background": "light"
     },
     "output_type": "display_data"
    }
   ],
   "source": [
    "sns.set_context(\"talk\", font_scale=0.8)\n",
    "expo_by_year.plot(title = \"Exportacion de Acero en Argentina en miles de toneladas\" )\n",
    "plt.legend(loc='center left', bbox_to_anchor=(1, 0.5))\n",
    "plt.show()"
   ]
  },
  {
   "cell_type": "markdown",
   "metadata": {},
   "source": [
    "¿que observamos de este grafico?"
   ]
  },
  {
   "cell_type": "code",
   "execution_count": 17,
   "metadata": {
    "colab": {},
    "colab_type": "code",
    "id": "CJ3yGc_oo92-"
   },
   "outputs": [],
   "source": [
    "#Hacemos lo mismo con las importaciones ahora\n",
    "impo.indice_tiempo = pd.to_datetime(impo.indice_tiempo)##### transformamos una columna de fechas a \"datetime\"\n",
    "impo['year'] = impo.indice_tiempo.dt.year#### generamos una columna nueva para guardar los años"
   ]
  },
  {
   "cell_type": "code",
   "execution_count": 18,
   "metadata": {
    "colab": {},
    "colab_type": "code",
    "id": "4xpkrkkWo93A",
    "outputId": "87495f58-8899-41e5-cae0-95852274f4fd"
   },
   "outputs": [
    {
     "data": {
      "text/html": [
       "<div>\n",
       "<style scoped>\n",
       "    .dataframe tbody tr th:only-of-type {\n",
       "        vertical-align: middle;\n",
       "    }\n",
       "\n",
       "    .dataframe tbody tr th {\n",
       "        vertical-align: top;\n",
       "    }\n",
       "\n",
       "    .dataframe thead th {\n",
       "        text-align: right;\n",
       "    }\n",
       "</style>\n",
       "<table border=\"1\" class=\"dataframe\">\n",
       "  <thead>\n",
       "    <tr style=\"text-align: right;\">\n",
       "      <th></th>\n",
       "      <th>acero_importaciones_laminados_largos</th>\n",
       "      <th>acero_importaciones_laminados_planos</th>\n",
       "    </tr>\n",
       "    <tr>\n",
       "      <th>year</th>\n",
       "      <th></th>\n",
       "      <th></th>\n",
       "    </tr>\n",
       "  </thead>\n",
       "  <tbody>\n",
       "    <tr>\n",
       "      <th>1992</th>\n",
       "      <td>87.5</td>\n",
       "      <td>910.0</td>\n",
       "    </tr>\n",
       "    <tr>\n",
       "      <th>1993</th>\n",
       "      <td>113.8</td>\n",
       "      <td>388.7</td>\n",
       "    </tr>\n",
       "    <tr>\n",
       "      <th>1994</th>\n",
       "      <td>130.6</td>\n",
       "      <td>371.6</td>\n",
       "    </tr>\n",
       "    <tr>\n",
       "      <th>1995</th>\n",
       "      <td>96.5</td>\n",
       "      <td>321.1</td>\n",
       "    </tr>\n",
       "    <tr>\n",
       "      <th>1996</th>\n",
       "      <td>155.7</td>\n",
       "      <td>351.3</td>\n",
       "    </tr>\n",
       "  </tbody>\n",
       "</table>\n",
       "</div>"
      ],
      "text/plain": [
       "      acero_importaciones_laminados_largos  \\\n",
       "year                                         \n",
       "1992                                  87.5   \n",
       "1993                                 113.8   \n",
       "1994                                 130.6   \n",
       "1995                                  96.5   \n",
       "1996                                 155.7   \n",
       "\n",
       "      acero_importaciones_laminados_planos  \n",
       "year                                        \n",
       "1992                                 910.0  \n",
       "1993                                 388.7  \n",
       "1994                                 371.6  \n",
       "1995                                 321.1  \n",
       "1996                                 351.3  "
      ]
     },
     "execution_count": 18,
     "metadata": {},
     "output_type": "execute_result"
    }
   ],
   "source": [
    "impo_by_year = impo.groupby([\"year\"])[\"acero_importaciones_laminados_largos\", \"acero_importaciones_laminados_planos\"].sum()#### hacemos un groupby de la columna \"year\" que creamos para \"acero_importaciones_laminados_largos\",\"acero_importaciones_laminados_planos\"\n",
    "impo_by_year.head()"
   ]
  },
  {
   "cell_type": "code",
   "execution_count": 19,
   "metadata": {
    "colab": {},
    "colab_type": "code",
    "id": "rxZ-wb-Do93D",
    "outputId": "56420011-50d4-4068-fb2b-ce00061a2fe2"
   },
   "outputs": [
    {
     "data": {
      "text/plain": [
       "<matplotlib.axes._subplots.AxesSubplot at 0x1a19e43b38>"
      ]
     },
     "execution_count": 19,
     "metadata": {},
     "output_type": "execute_result"
    },
    {
     "data": {
      "image/png": "[encoded data removed]",
      "text/plain": [
       "<Figure size 432x288 with 1 Axes>"
      ]
     },
     "metadata": {
      "needs_background": "light"
     },
     "output_type": "display_data"
    }
   ],
   "source": [
    "#Graficamos el nuevo dataframe generado \"impo_by_year\"\n",
    "impo_by_year.plot(title = \"Importacion de Acero en Argentina en miles de toneladas\")"
   ]
  },
  {
   "cell_type": "markdown",
   "metadata": {
    "colab_type": "text",
    "id": "FtKH7ItJo93F"
   },
   "source": [
    "### Como hacemos si queremos tener todos los datos en un mismo grafico?\n",
    "### pandas concat!\n",
    "https://pandas.pydata.org/pandas-docs/stable/generated/pandas.concat.html\n",
    "\n",
    "- realizaremos un concat de \"expo_by_year y de \"impo_by_year\"\n",
    "- deberemos determinar si concatenar por columnas o filas (axis)\n",
    "- determinar si es inner or outter join"
   ]
  },
  {
   "cell_type": "code",
   "execution_count": 20,
   "metadata": {
    "colab": {},
    "colab_type": "code",
    "id": "c7Sb01Oxo93G",
    "outputId": "5129f672-2377-4524-e30b-b5b011484dbb"
   },
   "outputs": [
    {
     "data": {
      "text/html": [
       "<div>\n",
       "<style scoped>\n",
       "    .dataframe tbody tr th:only-of-type {\n",
       "        vertical-align: middle;\n",
       "    }\n",
       "\n",
       "    .dataframe tbody tr th {\n",
       "        vertical-align: top;\n",
       "    }\n",
       "\n",
       "    .dataframe thead th {\n",
       "        text-align: right;\n",
       "    }\n",
       "</style>\n",
       "<table border=\"1\" class=\"dataframe\">\n",
       "  <thead>\n",
       "    <tr style=\"text-align: right;\">\n",
       "      <th></th>\n",
       "      <th>acero_exportaciones_laminados_largos</th>\n",
       "      <th>acero_exportaciones_laminados_planos</th>\n",
       "      <th>acero_importaciones_laminados_largos</th>\n",
       "      <th>acero_importaciones_laminados_planos</th>\n",
       "    </tr>\n",
       "    <tr>\n",
       "      <th>year</th>\n",
       "      <th></th>\n",
       "      <th></th>\n",
       "      <th></th>\n",
       "      <th></th>\n",
       "    </tr>\n",
       "  </thead>\n",
       "  <tbody>\n",
       "    <tr>\n",
       "      <th>1992</th>\n",
       "      <td>61.0</td>\n",
       "      <td>223.9</td>\n",
       "      <td>87.5</td>\n",
       "      <td>910.0</td>\n",
       "    </tr>\n",
       "    <tr>\n",
       "      <th>1993</th>\n",
       "      <td>99.5</td>\n",
       "      <td>269.6</td>\n",
       "      <td>113.8</td>\n",
       "      <td>388.7</td>\n",
       "    </tr>\n",
       "    <tr>\n",
       "      <th>1994</th>\n",
       "      <td>161.3</td>\n",
       "      <td>295.2</td>\n",
       "      <td>130.6</td>\n",
       "      <td>371.6</td>\n",
       "    </tr>\n",
       "    <tr>\n",
       "      <th>1995</th>\n",
       "      <td>258.8</td>\n",
       "      <td>559.3</td>\n",
       "      <td>96.5</td>\n",
       "      <td>321.1</td>\n",
       "    </tr>\n",
       "    <tr>\n",
       "      <th>1996</th>\n",
       "      <td>226.4</td>\n",
       "      <td>457.4</td>\n",
       "      <td>155.7</td>\n",
       "      <td>351.3</td>\n",
       "    </tr>\n",
       "    <tr>\n",
       "      <th>1997</th>\n",
       "      <td>247.2</td>\n",
       "      <td>390.0</td>\n",
       "      <td>349.1</td>\n",
       "      <td>418.1</td>\n",
       "    </tr>\n",
       "    <tr>\n",
       "      <th>1998</th>\n",
       "      <td>191.0</td>\n",
       "      <td>413.2</td>\n",
       "      <td>309.1</td>\n",
       "      <td>692.0</td>\n",
       "    </tr>\n",
       "    <tr>\n",
       "      <th>1999</th>\n",
       "      <td>195.2</td>\n",
       "      <td>905.4</td>\n",
       "      <td>257.6</td>\n",
       "      <td>491.8</td>\n",
       "    </tr>\n",
       "    <tr>\n",
       "      <th>2000</th>\n",
       "      <td>248.8</td>\n",
       "      <td>938.3</td>\n",
       "      <td>196.3</td>\n",
       "      <td>349.5</td>\n",
       "    </tr>\n",
       "    <tr>\n",
       "      <th>2001</th>\n",
       "      <td>217.3</td>\n",
       "      <td>1053.2</td>\n",
       "      <td>135.3</td>\n",
       "      <td>405.1</td>\n",
       "    </tr>\n",
       "  </tbody>\n",
       "</table>\n",
       "</div>"
      ],
      "text/plain": [
       "      acero_exportaciones_laminados_largos  \\\n",
       "year                                         \n",
       "1992                                  61.0   \n",
       "1993                                  99.5   \n",
       "1994                                 161.3   \n",
       "1995                                 258.8   \n",
       "1996                                 226.4   \n",
       "1997                                 247.2   \n",
       "1998                                 191.0   \n",
       "1999                                 195.2   \n",
       "2000                                 248.8   \n",
       "2001                                 217.3   \n",
       "\n",
       "      acero_exportaciones_laminados_planos  \\\n",
       "year                                         \n",
       "1992                                 223.9   \n",
       "1993                                 269.6   \n",
       "1994                                 295.2   \n",
       "1995                                 559.3   \n",
       "1996                                 457.4   \n",
       "1997                                 390.0   \n",
       "1998                                 413.2   \n",
       "1999                                 905.4   \n",
       "2000                                 938.3   \n",
       "2001                                1053.2   \n",
       "\n",
       "      acero_importaciones_laminados_largos  \\\n",
       "year                                         \n",
       "1992                                  87.5   \n",
       "1993                                 113.8   \n",
       "1994                                 130.6   \n",
       "1995                                  96.5   \n",
       "1996                                 155.7   \n",
       "1997                                 349.1   \n",
       "1998                                 309.1   \n",
       "1999                                 257.6   \n",
       "2000                                 196.3   \n",
       "2001                                 135.3   \n",
       "\n",
       "      acero_importaciones_laminados_planos  \n",
       "year                                        \n",
       "1992                                 910.0  \n",
       "1993                                 388.7  \n",
       "1994                                 371.6  \n",
       "1995                                 321.1  \n",
       "1996                                 351.3  \n",
       "1997                                 418.1  \n",
       "1998                                 692.0  \n",
       "1999                                 491.8  \n",
       "2000                                 349.5  \n",
       "2001                                 405.1  "
      ]
     },
     "execution_count": 20,
     "metadata": {},
     "output_type": "execute_result"
    }
   ],
   "source": [
    "expo_and_impo_by_year = pd.concat([expo_by_year,impo_by_year], axis = 1,  join = \"outer\" , ignore_index = False) #inner or outer join?\n",
    "expo_and_impo_by_year.head(10)"
   ]
  },
  {
   "cell_type": "markdown",
   "metadata": {},
   "source": [
    "Ahora podemos visualizar todos los datos en una misma tabla"
   ]
  },
  {
   "cell_type": "code",
   "execution_count": 21,
   "metadata": {
    "colab": {},
    "colab_type": "code",
    "id": "xwW5WrUGo93I",
    "outputId": "085a47b6-eef5-4c20-eb5b-d0928e4f8a71"
   },
   "outputs": [
    {
     "data": {
      "image/png": "[encoded data removed]",
      "text/plain": [
       "<Figure size 432x288 with 1 Axes>"
      ]
     },
     "metadata": {
      "needs_background": "light"
     },
     "output_type": "display_data"
    }
   ],
   "source": [
    "expo_and_impo_by_year.plot()\n",
    "plt.legend(loc='center left', bbox_to_anchor=(1, 0.5))\n",
    "plt.show()"
   ]
  },
  {
   "cell_type": "markdown",
   "metadata": {
    "colab_type": "text",
    "id": "Qn4OPzYso93K"
   },
   "source": [
    "### Opcion axis y join "
   ]
  },
  {
   "cell_type": "markdown",
   "metadata": {
    "colab_type": "text",
    "id": "7YDm7aJXo93L"
   },
   "source": [
    "Hay dos fomas de concatenar una por las columnas (axis = 1) y otra por las filas (axis = 0), por default es cero, que pasa si cambiamos ese valor?"
   ]
  },
  {
   "cell_type": "markdown",
   "metadata": {
    "colab_type": "text",
    "id": "CBvTjQM2o93L"
   },
   "source": [
    "![Axis diagram](https://www.dataquest.io/blog/content/images/2017/12/axis_diagram.jpg)"
   ]
  },
  {
   "cell_type": "markdown",
   "metadata": {
    "colab_type": "text",
    "id": "_cqITVkco93M"
   },
   "source": [
    "Al igual que en bases de datos ralacionales (ejemplo: SQL), Pandas tiene la opcion de realizar merge y join.\n",
    "    - Joins solo puede realizarse de a dos tablas.\n",
    "    - Concat va a funcionar cuando tenemos tablas de la misma altura (numero de filas)\n",
    "    - \"Key\" es la columna que tienen en comun.\n",
    "    - Con pd.concat podemos usar inner o outer join\n",
    "    - Existen 4 tipos de join:  "
   ]
  },
  {
   "cell_type": "markdown",
   "metadata": {
    "colab_type": "text",
    "id": "TriC-nWwo93M"
   },
   "source": [
    "![Inner join](https://www.dataquest.io/blog/content/images/2017/12/inner-join.png)\n",
    "![Left join](https://www.dataquest.io/blog/content/images/2017/12/left-join.png)\n",
    "![Right join](https://www.dataquest.io/blog/content/images/2017/12/right-join.png)\n",
    "![Full outer join](https://www.dataquest.io/blog/content/images/2017/12/full-outer-join.png)\n"
   ]
  },
  {
   "cell_type": "markdown",
   "metadata": {
    "colab_type": "text",
    "id": "bH1HV7Pno93N"
   },
   "source": [
    "### Ahora vamos a sumarle nuestros datos de Produccion "
   ]
  },
  {
   "cell_type": "code",
   "execution_count": 22,
   "metadata": {
    "colab": {},
    "colab_type": "code",
    "id": "SEUh0ORoo93O",
    "outputId": "ea908b3f-034a-46a5-c922-44b6096d123e"
   },
   "outputs": [
    {
     "data": {
      "text/html": [
       "<div>\n",
       "<style scoped>\n",
       "    .dataframe tbody tr th:only-of-type {\n",
       "        vertical-align: middle;\n",
       "    }\n",
       "\n",
       "    .dataframe tbody tr th {\n",
       "        vertical-align: top;\n",
       "    }\n",
       "\n",
       "    .dataframe thead th {\n",
       "        text-align: right;\n",
       "    }\n",
       "</style>\n",
       "<table border=\"1\" class=\"dataframe\">\n",
       "  <thead>\n",
       "    <tr style=\"text-align: right;\">\n",
       "      <th></th>\n",
       "      <th>acero_produccion</th>\n",
       "    </tr>\n",
       "    <tr>\n",
       "      <th>year</th>\n",
       "      <th></th>\n",
       "    </tr>\n",
       "  </thead>\n",
       "  <tbody>\n",
       "    <tr>\n",
       "      <th>1993</th>\n",
       "      <td>2885.40</td>\n",
       "    </tr>\n",
       "    <tr>\n",
       "      <th>1994</th>\n",
       "      <td>3305.00</td>\n",
       "    </tr>\n",
       "    <tr>\n",
       "      <th>1995</th>\n",
       "      <td>3568.50</td>\n",
       "    </tr>\n",
       "    <tr>\n",
       "      <th>1996</th>\n",
       "      <td>4075.10</td>\n",
       "    </tr>\n",
       "    <tr>\n",
       "      <th>1997</th>\n",
       "      <td>4169.87</td>\n",
       "    </tr>\n",
       "    <tr>\n",
       "      <th>1998</th>\n",
       "      <td>4215.40</td>\n",
       "    </tr>\n",
       "    <tr>\n",
       "      <th>1999</th>\n",
       "      <td>3804.70</td>\n",
       "    </tr>\n",
       "    <tr>\n",
       "      <th>2000</th>\n",
       "      <td>4479.22</td>\n",
       "    </tr>\n",
       "    <tr>\n",
       "      <th>2001</th>\n",
       "      <td>4108.00</td>\n",
       "    </tr>\n",
       "    <tr>\n",
       "      <th>2002</th>\n",
       "      <td>4360.55</td>\n",
       "    </tr>\n",
       "  </tbody>\n",
       "</table>\n",
       "</div>"
      ],
      "text/plain": [
       "      acero_produccion\n",
       "year                  \n",
       "1993           2885.40\n",
       "1994           3305.00\n",
       "1995           3568.50\n",
       "1996           4075.10\n",
       "1997           4169.87\n",
       "1998           4215.40\n",
       "1999           3804.70\n",
       "2000           4479.22\n",
       "2001           4108.00\n",
       "2002           4360.55"
      ]
     },
     "execution_count": 22,
     "metadata": {},
     "output_type": "execute_result"
    }
   ],
   "source": [
    "# Modificamos nuestro data-set de produccion para tenerlo de la misma forma que IMPO o EXPO\n",
    "prod.indice_tiempo =   pd.to_datetime(prod.indice_tiempo)\n",
    "prod['year'] =  prod.indice_tiempo.dt.year # creamos la columna \"year\"\n",
    "prod_by_year = prod.groupby([\"year\"])[\"acero_produccion\"].sum().to_frame() #sumamos la produccion por cada año\n",
    "prod_by_year.head(10) # Este data-set incluye datos del 2018!"
   ]
  },
  {
   "cell_type": "code",
   "execution_count": 23,
   "metadata": {
    "colab": {},
    "colab_type": "code",
    "id": "Ypfx_Y2Jo93S",
    "outputId": "e96f0f0d-0c09-44e6-fc7d-abeca87d9b39"
   },
   "outputs": [
    {
     "data": {
      "text/html": [
       "<div>\n",
       "<style scoped>\n",
       "    .dataframe tbody tr th:only-of-type {\n",
       "        vertical-align: middle;\n",
       "    }\n",
       "\n",
       "    .dataframe tbody tr th {\n",
       "        vertical-align: top;\n",
       "    }\n",
       "\n",
       "    .dataframe thead th {\n",
       "        text-align: right;\n",
       "    }\n",
       "</style>\n",
       "<table border=\"1\" class=\"dataframe\">\n",
       "  <thead>\n",
       "    <tr style=\"text-align: right;\">\n",
       "      <th></th>\n",
       "      <th>acero_exportaciones_laminados_largos</th>\n",
       "      <th>acero_exportaciones_laminados_planos</th>\n",
       "      <th>acero_importaciones_laminados_largos</th>\n",
       "      <th>acero_importaciones_laminados_planos</th>\n",
       "      <th>acero_produccion</th>\n",
       "    </tr>\n",
       "    <tr>\n",
       "      <th>year</th>\n",
       "      <th></th>\n",
       "      <th></th>\n",
       "      <th></th>\n",
       "      <th></th>\n",
       "      <th></th>\n",
       "    </tr>\n",
       "  </thead>\n",
       "  <tbody>\n",
       "    <tr>\n",
       "      <th>1992</th>\n",
       "      <td>61.0</td>\n",
       "      <td>223.9</td>\n",
       "      <td>87.5</td>\n",
       "      <td>910.0</td>\n",
       "      <td>NaN</td>\n",
       "    </tr>\n",
       "    <tr>\n",
       "      <th>1993</th>\n",
       "      <td>99.5</td>\n",
       "      <td>269.6</td>\n",
       "      <td>113.8</td>\n",
       "      <td>388.7</td>\n",
       "      <td>2885.40</td>\n",
       "    </tr>\n",
       "    <tr>\n",
       "      <th>1994</th>\n",
       "      <td>161.3</td>\n",
       "      <td>295.2</td>\n",
       "      <td>130.6</td>\n",
       "      <td>371.6</td>\n",
       "      <td>3305.00</td>\n",
       "    </tr>\n",
       "    <tr>\n",
       "      <th>1995</th>\n",
       "      <td>258.8</td>\n",
       "      <td>559.3</td>\n",
       "      <td>96.5</td>\n",
       "      <td>321.1</td>\n",
       "      <td>3568.50</td>\n",
       "    </tr>\n",
       "    <tr>\n",
       "      <th>1996</th>\n",
       "      <td>226.4</td>\n",
       "      <td>457.4</td>\n",
       "      <td>155.7</td>\n",
       "      <td>351.3</td>\n",
       "      <td>4075.10</td>\n",
       "    </tr>\n",
       "    <tr>\n",
       "      <th>1997</th>\n",
       "      <td>247.2</td>\n",
       "      <td>390.0</td>\n",
       "      <td>349.1</td>\n",
       "      <td>418.1</td>\n",
       "      <td>4169.87</td>\n",
       "    </tr>\n",
       "    <tr>\n",
       "      <th>1998</th>\n",
       "      <td>191.0</td>\n",
       "      <td>413.2</td>\n",
       "      <td>309.1</td>\n",
       "      <td>692.0</td>\n",
       "      <td>4215.40</td>\n",
       "    </tr>\n",
       "    <tr>\n",
       "      <th>1999</th>\n",
       "      <td>195.2</td>\n",
       "      <td>905.4</td>\n",
       "      <td>257.6</td>\n",
       "      <td>491.8</td>\n",
       "      <td>3804.70</td>\n",
       "    </tr>\n",
       "    <tr>\n",
       "      <th>2000</th>\n",
       "      <td>248.8</td>\n",
       "      <td>938.3</td>\n",
       "      <td>196.3</td>\n",
       "      <td>349.5</td>\n",
       "      <td>4479.22</td>\n",
       "    </tr>\n",
       "    <tr>\n",
       "      <th>2001</th>\n",
       "      <td>217.3</td>\n",
       "      <td>1053.2</td>\n",
       "      <td>135.3</td>\n",
       "      <td>405.1</td>\n",
       "      <td>4108.00</td>\n",
       "    </tr>\n",
       "    <tr>\n",
       "      <th>2002</th>\n",
       "      <td>345.2</td>\n",
       "      <td>1187.8</td>\n",
       "      <td>29.8</td>\n",
       "      <td>176.2</td>\n",
       "      <td>4360.55</td>\n",
       "    </tr>\n",
       "    <tr>\n",
       "      <th>2003</th>\n",
       "      <td>311.5</td>\n",
       "      <td>1042.0</td>\n",
       "      <td>105.0</td>\n",
       "      <td>174.2</td>\n",
       "      <td>5033.18</td>\n",
       "    </tr>\n",
       "    <tr>\n",
       "      <th>2004</th>\n",
       "      <td>267.8</td>\n",
       "      <td>468.3</td>\n",
       "      <td>162.3</td>\n",
       "      <td>237.0</td>\n",
       "      <td>5133.32</td>\n",
       "    </tr>\n",
       "    <tr>\n",
       "      <th>2005</th>\n",
       "      <td>249.8</td>\n",
       "      <td>655.9</td>\n",
       "      <td>168.9</td>\n",
       "      <td>224.4</td>\n",
       "      <td>5385.58</td>\n",
       "    </tr>\n",
       "    <tr>\n",
       "      <th>2006</th>\n",
       "      <td>210.6</td>\n",
       "      <td>360.0</td>\n",
       "      <td>216.8</td>\n",
       "      <td>274.4</td>\n",
       "      <td>5532.73</td>\n",
       "    </tr>\n",
       "    <tr>\n",
       "      <th>2007</th>\n",
       "      <td>204.5</td>\n",
       "      <td>465.7</td>\n",
       "      <td>276.1</td>\n",
       "      <td>383.4</td>\n",
       "      <td>5387.11</td>\n",
       "    </tr>\n",
       "    <tr>\n",
       "      <th>2008</th>\n",
       "      <td>155.8</td>\n",
       "      <td>210.0</td>\n",
       "      <td>253.6</td>\n",
       "      <td>455.0</td>\n",
       "      <td>5541.39</td>\n",
       "    </tr>\n",
       "    <tr>\n",
       "      <th>2009</th>\n",
       "      <td>93.8</td>\n",
       "      <td>433.6</td>\n",
       "      <td>160.2</td>\n",
       "      <td>250.5</td>\n",
       "      <td>4013.09</td>\n",
       "    </tr>\n",
       "    <tr>\n",
       "      <th>2010</th>\n",
       "      <td>232.9</td>\n",
       "      <td>301.9</td>\n",
       "      <td>331.6</td>\n",
       "      <td>388.4</td>\n",
       "      <td>5139.10</td>\n",
       "    </tr>\n",
       "    <tr>\n",
       "      <th>2011</th>\n",
       "      <td>201.5</td>\n",
       "      <td>175.7</td>\n",
       "      <td>360.5</td>\n",
       "      <td>491.8</td>\n",
       "      <td>5611.20</td>\n",
       "    </tr>\n",
       "    <tr>\n",
       "      <th>2012</th>\n",
       "      <td>293.1</td>\n",
       "      <td>156.9</td>\n",
       "      <td>291.4</td>\n",
       "      <td>517.7</td>\n",
       "      <td>4995.10</td>\n",
       "    </tr>\n",
       "    <tr>\n",
       "      <th>2013</th>\n",
       "      <td>263.5</td>\n",
       "      <td>144.2</td>\n",
       "      <td>293.2</td>\n",
       "      <td>399.5</td>\n",
       "      <td>5185.60</td>\n",
       "    </tr>\n",
       "    <tr>\n",
       "      <th>2014</th>\n",
       "      <td>150.2</td>\n",
       "      <td>169.9</td>\n",
       "      <td>264.2</td>\n",
       "      <td>395.7</td>\n",
       "      <td>5488.20</td>\n",
       "    </tr>\n",
       "    <tr>\n",
       "      <th>2015</th>\n",
       "      <td>85.7</td>\n",
       "      <td>144.0</td>\n",
       "      <td>256.1</td>\n",
       "      <td>630.8</td>\n",
       "      <td>5027.80</td>\n",
       "    </tr>\n",
       "    <tr>\n",
       "      <th>2016</th>\n",
       "      <td>75.5</td>\n",
       "      <td>168.5</td>\n",
       "      <td>190.6</td>\n",
       "      <td>370.5</td>\n",
       "      <td>4126.50</td>\n",
       "    </tr>\n",
       "    <tr>\n",
       "      <th>2017</th>\n",
       "      <td>71.2</td>\n",
       "      <td>99.1</td>\n",
       "      <td>291.3</td>\n",
       "      <td>632.3</td>\n",
       "      <td>4624.20</td>\n",
       "    </tr>\n",
       "  </tbody>\n",
       "</table>\n",
       "</div>"
      ],
      "text/plain": [
       "      acero_exportaciones_laminados_largos  \\\n",
       "year                                         \n",
       "1992                                  61.0   \n",
       "1993                                  99.5   \n",
       "1994                                 161.3   \n",
       "1995                                 258.8   \n",
       "1996                                 226.4   \n",
       "1997                                 247.2   \n",
       "1998                                 191.0   \n",
       "1999                                 195.2   \n",
       "2000                                 248.8   \n",
       "2001                                 217.3   \n",
       "2002                                 345.2   \n",
       "2003                                 311.5   \n",
       "2004                                 267.8   \n",
       "2005                                 249.8   \n",
       "2006                                 210.6   \n",
       "2007                                 204.5   \n",
       "2008                                 155.8   \n",
       "2009                                  93.8   \n",
       "2010                                 232.9   \n",
       "2011                                 201.5   \n",
       "2012                                 293.1   \n",
       "2013                                 263.5   \n",
       "2014                                 150.2   \n",
       "2015                                  85.7   \n",
       "2016                                  75.5   \n",
       "2017                                  71.2   \n",
       "\n",
       "      acero_exportaciones_laminados_planos  \\\n",
       "year                                         \n",
       "1992                                 223.9   \n",
       "1993                                 269.6   \n",
       "1994                                 295.2   \n",
       "1995                                 559.3   \n",
       "1996                                 457.4   \n",
       "1997                                 390.0   \n",
       "1998                                 413.2   \n",
       "1999                                 905.4   \n",
       "2000                                 938.3   \n",
       "2001                                1053.2   \n",
       "2002                                1187.8   \n",
       "2003                                1042.0   \n",
       "2004                                 468.3   \n",
       "2005                                 655.9   \n",
       "2006                                 360.0   \n",
       "2007                                 465.7   \n",
       "2008                                 210.0   \n",
       "2009                                 433.6   \n",
       "2010                                 301.9   \n",
       "2011                                 175.7   \n",
       "2012                                 156.9   \n",
       "2013                                 144.2   \n",
       "2014                                 169.9   \n",
       "2015                                 144.0   \n",
       "2016                                 168.5   \n",
       "2017                                  99.1   \n",
       "\n",
       "      acero_importaciones_laminados_largos  \\\n",
       "year                                         \n",
       "1992                                  87.5   \n",
       "1993                                 113.8   \n",
       "1994                                 130.6   \n",
       "1995                                  96.5   \n",
       "1996                                 155.7   \n",
       "1997                                 349.1   \n",
       "1998                                 309.1   \n",
       "1999                                 257.6   \n",
       "2000                                 196.3   \n",
       "2001                                 135.3   \n",
       "2002                                  29.8   \n",
       "2003                                 105.0   \n",
       "2004                                 162.3   \n",
       "2005                                 168.9   \n",
       "2006                                 216.8   \n",
       "2007                                 276.1   \n",
       "2008                                 253.6   \n",
       "2009                                 160.2   \n",
       "2010                                 331.6   \n",
       "2011                                 360.5   \n",
       "2012                                 291.4   \n",
       "2013                                 293.2   \n",
       "2014                                 264.2   \n",
       "2015                                 256.1   \n",
       "2016                                 190.6   \n",
       "2017                                 291.3   \n",
       "\n",
       "      acero_importaciones_laminados_planos  acero_produccion  \n",
       "year                                                          \n",
       "1992                                 910.0               NaN  \n",
       "1993                                 388.7           2885.40  \n",
       "1994                                 371.6           3305.00  \n",
       "1995                                 321.1           3568.50  \n",
       "1996                                 351.3           4075.10  \n",
       "1997                                 418.1           4169.87  \n",
       "1998                                 692.0           4215.40  \n",
       "1999                                 491.8           3804.70  \n",
       "2000                                 349.5           4479.22  \n",
       "2001                                 405.1           4108.00  \n",
       "2002                                 176.2           4360.55  \n",
       "2003                                 174.2           5033.18  \n",
       "2004                                 237.0           5133.32  \n",
       "2005                                 224.4           5385.58  \n",
       "2006                                 274.4           5532.73  \n",
       "2007                                 383.4           5387.11  \n",
       "2008                                 455.0           5541.39  \n",
       "2009                                 250.5           4013.09  \n",
       "2010                                 388.4           5139.10  \n",
       "2011                                 491.8           5611.20  \n",
       "2012                                 517.7           4995.10  \n",
       "2013                                 399.5           5185.60  \n",
       "2014                                 395.7           5488.20  \n",
       "2015                                 630.8           5027.80  \n",
       "2016                                 370.5           4126.50  \n",
       "2017                                 632.3           4624.20  "
      ]
     },
     "execution_count": 23,
     "metadata": {},
     "output_type": "execute_result"
    }
   ],
   "source": [
    "#Unimos los dos datasets \"expo_and_impo_by_year\" y \"prod_by_year\"\n",
    "expo_impo_prod_by_year = pd.merge(expo_and_impo_by_year,prod_by_year, how='left',left_index = True,  right_index = True)\n",
    "expo_impo_prod_by_year.head(40)"
   ]
  },
  {
   "cell_type": "markdown",
   "metadata": {
    "colab_type": "text",
    "id": "SgdcXevgo93V"
   },
   "source": [
    "### Otra forma de usar merge es con el comando join directamente\n",
    "\n",
    "https://pandas.pydata.org/pandas-docs/stable/generated/pandas.DataFrame.join.html"
   ]
  },
  {
   "cell_type": "markdown",
   "metadata": {
    "colab_type": "text",
    "id": "863xNCKQo93W"
   },
   "source": [
    "### En caso de querer agregar mas filas en data-sets similares podemos utilizar pd.append\n",
    "\n",
    "https://pandas.pydata.org/pandas-docs/stable/generated/pandas.DataFrame.append.html"
   ]
  },
  {
   "cell_type": "markdown",
   "metadata": {
    "colab_type": "text",
    "id": "o4S9bMNZo93W"
   },
   "source": [
    "### Para cerrar...\n",
    "\n",
    "pd.concat() function: multiproposito y puede ser usado para combinar data-sets por filas o columnas \n",
    "\n",
    "DataFrame.append() method: un metodo rapido para agregar filas pero no columnas!\n",
    "\n",
    "pd.merge() function: util cuando tenemos que unir data-sets con una columna en comun (key) \n",
    "\n",
    "DataFrame.join() method: metodo rapido para hacer join pero solo por index (podriamos haberlo usada aca)"
   ]
  },
  {
   "cell_type": "markdown",
   "metadata": {
    "colab_type": "text",
    "id": "O3j5m88co93W"
   },
   "source": [
    "### Tarea... (?)\n",
    "\n",
    "1- Unir el data-set de consumo al ultimo creado para poder graficar todo junto. (tener en cuenta las columnas usadas)\n",
    "\n",
    "2- Obtener un data-set a partir del punto 1 con cuatro columnas correspondientes a EXPO, IMPO, PROD y CONSUM.\n",
    "\n",
    "        (Puedo sumar columnas a = b + c y crear un DF, puedo usar pd.sum() o crear columnas y luego hacer drop)\n",
    "        \n",
    "3- Graficar el data-set del punto 2 con la libreria sea-born y editando titulos, leyendas, colores, etc. \n"
   ]
  },
  {
   "cell_type": "markdown",
   "metadata": {
    "colab_type": "text",
    "id": "RNdnniVFo93W"
   },
   "source": [
    "### Preguntas ? \n",
    "\n",
    "\n",
    "\n",
    "![Axis diagram](https://i.pinimg.com/originals/ec/bf/1c/ecbf1c0337f0623160ac56c89d64d601.jpg)"
   ]
  },
  {
   "cell_type": "code",
   "execution_count": null,
   "metadata": {
    "colab": {},
    "colab_type": "code",
    "collapsed": true,
    "id": "ZUWpVjc4o93X"
   },
   "outputs": [],
   "source": []
  }
 ],
 "metadata": {
  "colab": {
   "name": "Combinando+datos+con+Pandas (2).ipynb",
   "provenance": [],
   "version": "0.3.2"
  },
  "kernelspec": {
   "display_name": "Python 3",
   "language": "python",
   "name": "python3"
  },
  "language_info": {
   "codemirror_mode": {
    "name": "ipython",
    "version": 3
   },
   "file_extension": ".py",
   "mimetype": "text/x-python",
   "name": "python",
   "nbconvert_exporter": "python",
   "pygments_lexer": "ipython3",
   "version": "3.6.8"
  }
 },
 "nbformat": 4,
 "nbformat_minor": 1
}
